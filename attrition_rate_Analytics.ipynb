{
  "cells": [
    {
      "cell_type": "markdown",
      "metadata": {
        "id": "view-in-github",
        "colab_type": "text"
      },
      "source": [
        "<a href=\"https://colab.research.google.com/github/likeshd/Bike-Rental-System/blob/master/attrition_rate_Analytics.ipynb\" target=\"_parent\"><img src=\"https://colab.research.google.com/assets/colab-badge.svg\" alt=\"Open In Colab\"/></a>"
      ]
    },
    {
      "cell_type": "code",
      "execution_count": null,
      "id": "cb5b3f1b",
      "metadata": {
        "id": "cb5b3f1b"
      },
      "outputs": [],
      "source": [
        "import pandas as pd"
      ]
    },
    {
      "cell_type": "code",
      "execution_count": null,
      "id": "92628782",
      "metadata": {
        "id": "92628782"
      },
      "outputs": [],
      "source": [
        "df = pd.read_csv(r\"C:\\Users\\Dell\\Downloads\\people (14).csv\", sep=\",\")"
      ]
    },
    {
      "cell_type": "code",
      "execution_count": null,
      "id": "571a1fef",
      "metadata": {
        "id": "571a1fef",
        "outputId": "9fe81cc1-174d-476c-8a24-7dc0d6c44c87"
      },
      "outputs": [
        {
          "data": {
            "text/html": [
              "<div>\n",
              "<style scoped>\n",
              "    .dataframe tbody tr th:only-of-type {\n",
              "        vertical-align: middle;\n",
              "    }\n",
              "\n",
              "    .dataframe tbody tr th {\n",
              "        vertical-align: top;\n",
              "    }\n",
              "\n",
              "    .dataframe thead th {\n",
              "        text-align: right;\n",
              "    }\n",
              "</style>\n",
              "<table border=\"1\" class=\"dataframe\">\n",
              "  <thead>\n",
              "    <tr style=\"text-align: right;\">\n",
              "      <th></th>\n",
              "      <th>satisfactoryLevel</th>\n",
              "      <th>lastEvaluation</th>\n",
              "      <th>numberOfProjects</th>\n",
              "      <th>avgMonthlyHours</th>\n",
              "      <th>timeSpent.company</th>\n",
              "      <th>workAccident</th>\n",
              "      <th>left</th>\n",
              "      <th>promotionInLast5years</th>\n",
              "      <th>dept</th>\n",
              "      <th>salary</th>\n",
              "    </tr>\n",
              "  </thead>\n",
              "  <tbody>\n",
              "    <tr>\n",
              "      <th>0</th>\n",
              "      <td>0.38</td>\n",
              "      <td>0.53</td>\n",
              "      <td>2</td>\n",
              "      <td>157</td>\n",
              "      <td>3</td>\n",
              "      <td>0</td>\n",
              "      <td>1</td>\n",
              "      <td>0</td>\n",
              "      <td>sales</td>\n",
              "      <td>low</td>\n",
              "    </tr>\n",
              "    <tr>\n",
              "      <th>1</th>\n",
              "      <td>0.80</td>\n",
              "      <td>0.86</td>\n",
              "      <td>5</td>\n",
              "      <td>262</td>\n",
              "      <td>6</td>\n",
              "      <td>0</td>\n",
              "      <td>1</td>\n",
              "      <td>0</td>\n",
              "      <td>sales</td>\n",
              "      <td>medium</td>\n",
              "    </tr>\n",
              "    <tr>\n",
              "      <th>2</th>\n",
              "      <td>0.11</td>\n",
              "      <td>0.88</td>\n",
              "      <td>7</td>\n",
              "      <td>272</td>\n",
              "      <td>4</td>\n",
              "      <td>0</td>\n",
              "      <td>1</td>\n",
              "      <td>0</td>\n",
              "      <td>sales</td>\n",
              "      <td>medium</td>\n",
              "    </tr>\n",
              "    <tr>\n",
              "      <th>3</th>\n",
              "      <td>0.37</td>\n",
              "      <td>0.52</td>\n",
              "      <td>2</td>\n",
              "      <td>159</td>\n",
              "      <td>3</td>\n",
              "      <td>0</td>\n",
              "      <td>1</td>\n",
              "      <td>0</td>\n",
              "      <td>sales</td>\n",
              "      <td>low</td>\n",
              "    </tr>\n",
              "    <tr>\n",
              "      <th>4</th>\n",
              "      <td>0.41</td>\n",
              "      <td>0.50</td>\n",
              "      <td>2</td>\n",
              "      <td>153</td>\n",
              "      <td>3</td>\n",
              "      <td>0</td>\n",
              "      <td>1</td>\n",
              "      <td>0</td>\n",
              "      <td>sales</td>\n",
              "      <td>low</td>\n",
              "    </tr>\n",
              "  </tbody>\n",
              "</table>\n",
              "</div>"
            ],
            "text/plain": [
              "   satisfactoryLevel  lastEvaluation  numberOfProjects  avgMonthlyHours  \\\n",
              "0               0.38            0.53                 2              157   \n",
              "1               0.80            0.86                 5              262   \n",
              "2               0.11            0.88                 7              272   \n",
              "3               0.37            0.52                 2              159   \n",
              "4               0.41            0.50                 2              153   \n",
              "\n",
              "   timeSpent.company  workAccident  left  promotionInLast5years   dept  salary  \n",
              "0                  3             0     1                      0  sales     low  \n",
              "1                  6             0     1                      0  sales  medium  \n",
              "2                  4             0     1                      0  sales  medium  \n",
              "3                  3             0     1                      0  sales     low  \n",
              "4                  3             0     1                      0  sales     low  "
            ]
          },
          "execution_count": 7,
          "metadata": {},
          "output_type": "execute_result"
        }
      ],
      "source": [
        "df.head()"
      ]
    },
    {
      "cell_type": "code",
      "execution_count": null,
      "id": "a0a03422",
      "metadata": {
        "id": "a0a03422",
        "outputId": "911f139e-3db9-4b60-c8dc-0363a744076c"
      },
      "outputs": [
        {
          "data": {
            "text/plain": [
              "(14999, 10)"
            ]
          },
          "execution_count": 8,
          "metadata": {},
          "output_type": "execute_result"
        }
      ],
      "source": [
        "df.shape"
      ]
    },
    {
      "cell_type": "code",
      "execution_count": null,
      "id": "b35f121b",
      "metadata": {
        "id": "b35f121b"
      },
      "outputs": [],
      "source": [
        "##Data Preprocessing -"
      ]
    },
    {
      "cell_type": "code",
      "execution_count": null,
      "id": "3aeb4958",
      "metadata": {
        "id": "3aeb4958"
      },
      "outputs": [],
      "source": [
        "#Identifying the null values/ missing values in the dataset (Nan)"
      ]
    },
    {
      "cell_type": "code",
      "execution_count": null,
      "id": "07b3453b",
      "metadata": {
        "id": "07b3453b",
        "outputId": "b34fc126-00ac-4881-c9c3-4de04da99172"
      },
      "outputs": [
        {
          "data": {
            "text/html": [
              "<div>\n",
              "<style scoped>\n",
              "    .dataframe tbody tr th:only-of-type {\n",
              "        vertical-align: middle;\n",
              "    }\n",
              "\n",
              "    .dataframe tbody tr th {\n",
              "        vertical-align: top;\n",
              "    }\n",
              "\n",
              "    .dataframe thead th {\n",
              "        text-align: right;\n",
              "    }\n",
              "</style>\n",
              "<table border=\"1\" class=\"dataframe\">\n",
              "  <thead>\n",
              "    <tr style=\"text-align: right;\">\n",
              "      <th></th>\n",
              "      <th>satisfactoryLevel</th>\n",
              "      <th>lastEvaluation</th>\n",
              "      <th>numberOfProjects</th>\n",
              "      <th>avgMonthlyHours</th>\n",
              "      <th>timeSpent.company</th>\n",
              "      <th>workAccident</th>\n",
              "      <th>left</th>\n",
              "      <th>promotionInLast5years</th>\n",
              "      <th>dept</th>\n",
              "      <th>salary</th>\n",
              "    </tr>\n",
              "  </thead>\n",
              "  <tbody>\n",
              "    <tr>\n",
              "      <th>0</th>\n",
              "      <td>False</td>\n",
              "      <td>False</td>\n",
              "      <td>False</td>\n",
              "      <td>False</td>\n",
              "      <td>False</td>\n",
              "      <td>False</td>\n",
              "      <td>False</td>\n",
              "      <td>False</td>\n",
              "      <td>False</td>\n",
              "      <td>False</td>\n",
              "    </tr>\n",
              "    <tr>\n",
              "      <th>1</th>\n",
              "      <td>False</td>\n",
              "      <td>False</td>\n",
              "      <td>False</td>\n",
              "      <td>False</td>\n",
              "      <td>False</td>\n",
              "      <td>False</td>\n",
              "      <td>False</td>\n",
              "      <td>False</td>\n",
              "      <td>False</td>\n",
              "      <td>False</td>\n",
              "    </tr>\n",
              "    <tr>\n",
              "      <th>2</th>\n",
              "      <td>False</td>\n",
              "      <td>False</td>\n",
              "      <td>False</td>\n",
              "      <td>False</td>\n",
              "      <td>False</td>\n",
              "      <td>False</td>\n",
              "      <td>False</td>\n",
              "      <td>False</td>\n",
              "      <td>False</td>\n",
              "      <td>False</td>\n",
              "    </tr>\n",
              "    <tr>\n",
              "      <th>3</th>\n",
              "      <td>False</td>\n",
              "      <td>False</td>\n",
              "      <td>False</td>\n",
              "      <td>False</td>\n",
              "      <td>False</td>\n",
              "      <td>False</td>\n",
              "      <td>False</td>\n",
              "      <td>False</td>\n",
              "      <td>False</td>\n",
              "      <td>False</td>\n",
              "    </tr>\n",
              "    <tr>\n",
              "      <th>4</th>\n",
              "      <td>False</td>\n",
              "      <td>False</td>\n",
              "      <td>False</td>\n",
              "      <td>False</td>\n",
              "      <td>False</td>\n",
              "      <td>False</td>\n",
              "      <td>False</td>\n",
              "      <td>False</td>\n",
              "      <td>False</td>\n",
              "      <td>False</td>\n",
              "    </tr>\n",
              "    <tr>\n",
              "      <th>...</th>\n",
              "      <td>...</td>\n",
              "      <td>...</td>\n",
              "      <td>...</td>\n",
              "      <td>...</td>\n",
              "      <td>...</td>\n",
              "      <td>...</td>\n",
              "      <td>...</td>\n",
              "      <td>...</td>\n",
              "      <td>...</td>\n",
              "      <td>...</td>\n",
              "    </tr>\n",
              "    <tr>\n",
              "      <th>14994</th>\n",
              "      <td>False</td>\n",
              "      <td>False</td>\n",
              "      <td>False</td>\n",
              "      <td>False</td>\n",
              "      <td>False</td>\n",
              "      <td>False</td>\n",
              "      <td>False</td>\n",
              "      <td>False</td>\n",
              "      <td>False</td>\n",
              "      <td>False</td>\n",
              "    </tr>\n",
              "    <tr>\n",
              "      <th>14995</th>\n",
              "      <td>False</td>\n",
              "      <td>False</td>\n",
              "      <td>False</td>\n",
              "      <td>False</td>\n",
              "      <td>False</td>\n",
              "      <td>False</td>\n",
              "      <td>False</td>\n",
              "      <td>False</td>\n",
              "      <td>False</td>\n",
              "      <td>False</td>\n",
              "    </tr>\n",
              "    <tr>\n",
              "      <th>14996</th>\n",
              "      <td>False</td>\n",
              "      <td>False</td>\n",
              "      <td>False</td>\n",
              "      <td>False</td>\n",
              "      <td>False</td>\n",
              "      <td>False</td>\n",
              "      <td>False</td>\n",
              "      <td>False</td>\n",
              "      <td>False</td>\n",
              "      <td>False</td>\n",
              "    </tr>\n",
              "    <tr>\n",
              "      <th>14997</th>\n",
              "      <td>False</td>\n",
              "      <td>False</td>\n",
              "      <td>False</td>\n",
              "      <td>False</td>\n",
              "      <td>False</td>\n",
              "      <td>False</td>\n",
              "      <td>False</td>\n",
              "      <td>False</td>\n",
              "      <td>False</td>\n",
              "      <td>False</td>\n",
              "    </tr>\n",
              "    <tr>\n",
              "      <th>14998</th>\n",
              "      <td>False</td>\n",
              "      <td>False</td>\n",
              "      <td>False</td>\n",
              "      <td>False</td>\n",
              "      <td>False</td>\n",
              "      <td>False</td>\n",
              "      <td>False</td>\n",
              "      <td>False</td>\n",
              "      <td>False</td>\n",
              "      <td>False</td>\n",
              "    </tr>\n",
              "  </tbody>\n",
              "</table>\n",
              "<p>14999 rows × 10 columns</p>\n",
              "</div>"
            ],
            "text/plain": [
              "       satisfactoryLevel  lastEvaluation  numberOfProjects  avgMonthlyHours  \\\n",
              "0                  False           False             False            False   \n",
              "1                  False           False             False            False   \n",
              "2                  False           False             False            False   \n",
              "3                  False           False             False            False   \n",
              "4                  False           False             False            False   \n",
              "...                  ...             ...               ...              ...   \n",
              "14994              False           False             False            False   \n",
              "14995              False           False             False            False   \n",
              "14996              False           False             False            False   \n",
              "14997              False           False             False            False   \n",
              "14998              False           False             False            False   \n",
              "\n",
              "       timeSpent.company  workAccident   left  promotionInLast5years   dept  \\\n",
              "0                  False         False  False                  False  False   \n",
              "1                  False         False  False                  False  False   \n",
              "2                  False         False  False                  False  False   \n",
              "3                  False         False  False                  False  False   \n",
              "4                  False         False  False                  False  False   \n",
              "...                  ...           ...    ...                    ...    ...   \n",
              "14994              False         False  False                  False  False   \n",
              "14995              False         False  False                  False  False   \n",
              "14996              False         False  False                  False  False   \n",
              "14997              False         False  False                  False  False   \n",
              "14998              False         False  False                  False  False   \n",
              "\n",
              "       salary  \n",
              "0       False  \n",
              "1       False  \n",
              "2       False  \n",
              "3       False  \n",
              "4       False  \n",
              "...       ...  \n",
              "14994   False  \n",
              "14995   False  \n",
              "14996   False  \n",
              "14997   False  \n",
              "14998   False  \n",
              "\n",
              "[14999 rows x 10 columns]"
            ]
          },
          "execution_count": 14,
          "metadata": {},
          "output_type": "execute_result"
        }
      ],
      "source": [
        "#isnull\n",
        "df.isnull()"
      ]
    },
    {
      "cell_type": "code",
      "execution_count": null,
      "id": "91168a96",
      "metadata": {
        "id": "91168a96",
        "outputId": "0cabaeb7-f96e-44a9-fb74-b42d40d9921e"
      },
      "outputs": [
        {
          "data": {
            "text/plain": [
              "satisfactoryLevel        0\n",
              "lastEvaluation           0\n",
              "numberOfProjects         0\n",
              "avgMonthlyHours          0\n",
              "timeSpent.company        0\n",
              "workAccident             0\n",
              "left                     0\n",
              "promotionInLast5years    0\n",
              "dept                     0\n",
              "salary                   0\n",
              "dtype: int64"
            ]
          },
          "execution_count": 12,
          "metadata": {},
          "output_type": "execute_result"
        }
      ],
      "source": [
        "df.isnull().sum()"
      ]
    },
    {
      "cell_type": "code",
      "execution_count": null,
      "id": "5850d82d",
      "metadata": {
        "id": "5850d82d",
        "outputId": "c1f311a2-f5f9-4146-bf7f-84af1decae7c"
      },
      "outputs": [
        {
          "name": "stdout",
          "output_type": "stream",
          "text": [
            "<class 'pandas.core.frame.DataFrame'>\n",
            "RangeIndex: 14999 entries, 0 to 14998\n",
            "Data columns (total 10 columns):\n",
            " #   Column                 Non-Null Count  Dtype  \n",
            "---  ------                 --------------  -----  \n",
            " 0   satisfactoryLevel      14999 non-null  float64\n",
            " 1   lastEvaluation         14999 non-null  float64\n",
            " 2   numberOfProjects       14999 non-null  int64  \n",
            " 3   avgMonthlyHours        14999 non-null  int64  \n",
            " 4   timeSpent.company      14999 non-null  int64  \n",
            " 5   workAccident           14999 non-null  int64  \n",
            " 6   left                   14999 non-null  int64  \n",
            " 7   promotionInLast5years  14999 non-null  int64  \n",
            " 8   dept                   14999 non-null  object \n",
            " 9   salary                 14999 non-null  object \n",
            "dtypes: float64(2), int64(6), object(2)\n",
            "memory usage: 1.1+ MB\n"
          ]
        }
      ],
      "source": [
        "df.info()"
      ]
    },
    {
      "cell_type": "code",
      "execution_count": null,
      "id": "e6517bfe",
      "metadata": {
        "id": "e6517bfe"
      },
      "outputs": [],
      "source": [
        "#Check if any duplicate records /rows are present in the dataset\n",
        "#df.duplicated()"
      ]
    },
    {
      "cell_type": "code",
      "execution_count": null,
      "id": "fa84c729",
      "metadata": {
        "id": "fa84c729",
        "outputId": "de41d928-9a4a-4354-9107-59dd70288081"
      },
      "outputs": [
        {
          "data": {
            "text/plain": [
              "0        False\n",
              "1        False\n",
              "2        False\n",
              "3        False\n",
              "4        False\n",
              "         ...  \n",
              "14994     True\n",
              "14995    False\n",
              "14996    False\n",
              "14997    False\n",
              "14998    False\n",
              "Length: 14999, dtype: bool"
            ]
          },
          "execution_count": 15,
          "metadata": {},
          "output_type": "execute_result"
        }
      ],
      "source": [
        "df.duplicated()"
      ]
    },
    {
      "cell_type": "code",
      "execution_count": null,
      "id": "da2cbfe0",
      "metadata": {
        "id": "da2cbfe0",
        "outputId": "153514fe-146c-4f37-be19-54652b78513a"
      },
      "outputs": [
        {
          "data": {
            "text/plain": [
              "3008"
            ]
          },
          "execution_count": 16,
          "metadata": {},
          "output_type": "execute_result"
        }
      ],
      "source": [
        "df.duplicated().sum()"
      ]
    },
    {
      "cell_type": "code",
      "execution_count": null,
      "id": "96c32fb8",
      "metadata": {
        "id": "96c32fb8",
        "outputId": "3e8d6877-b32e-4586-dc23-8298f95df8c5"
      },
      "outputs": [
        {
          "data": {
            "text/plain": [
              "(14999, 10)"
            ]
          },
          "execution_count": 17,
          "metadata": {},
          "output_type": "execute_result"
        }
      ],
      "source": [
        "df.shape"
      ]
    },
    {
      "cell_type": "code",
      "execution_count": null,
      "id": "c36c8a25",
      "metadata": {
        "id": "c36c8a25"
      },
      "outputs": [],
      "source": [
        "df = df.drop_duplicates() #14999 - 3008 ==> 11991"
      ]
    },
    {
      "cell_type": "code",
      "execution_count": null,
      "id": "d8c13e0c",
      "metadata": {
        "id": "d8c13e0c",
        "outputId": "08be65ef-1e85-4d8f-ba3f-c869d77eb66c"
      },
      "outputs": [
        {
          "data": {
            "text/plain": [
              "(11991, 10)"
            ]
          },
          "execution_count": 19,
          "metadata": {},
          "output_type": "execute_result"
        }
      ],
      "source": [
        "df.shape"
      ]
    },
    {
      "cell_type": "code",
      "execution_count": null,
      "id": "3e0bb018",
      "metadata": {
        "id": "3e0bb018"
      },
      "outputs": [],
      "source": [
        "#Data Correlation -\n",
        "\n",
        "#Positive Correlation - directly proportional\n",
        "#Negative Correlation - inversly proportional\n",
        "#Zero correlation - Not related to each other --> ex: Age, Gender"
      ]
    },
    {
      "cell_type": "code",
      "execution_count": null,
      "id": "85b59267",
      "metadata": {
        "id": "85b59267",
        "outputId": "fe17b892-cb86-4275-8348-15c06f44f124"
      },
      "outputs": [
        {
          "data": {
            "text/html": [
              "<div>\n",
              "<style scoped>\n",
              "    .dataframe tbody tr th:only-of-type {\n",
              "        vertical-align: middle;\n",
              "    }\n",
              "\n",
              "    .dataframe tbody tr th {\n",
              "        vertical-align: top;\n",
              "    }\n",
              "\n",
              "    .dataframe thead th {\n",
              "        text-align: right;\n",
              "    }\n",
              "</style>\n",
              "<table border=\"1\" class=\"dataframe\">\n",
              "  <thead>\n",
              "    <tr style=\"text-align: right;\">\n",
              "      <th></th>\n",
              "      <th>satisfactoryLevel</th>\n",
              "      <th>numberOfProjects</th>\n",
              "    </tr>\n",
              "  </thead>\n",
              "  <tbody>\n",
              "    <tr>\n",
              "      <th>satisfactoryLevel</th>\n",
              "      <td>1.000000</td>\n",
              "      <td>-0.133246</td>\n",
              "    </tr>\n",
              "    <tr>\n",
              "      <th>numberOfProjects</th>\n",
              "      <td>-0.133246</td>\n",
              "      <td>1.000000</td>\n",
              "    </tr>\n",
              "  </tbody>\n",
              "</table>\n",
              "</div>"
            ],
            "text/plain": [
              "                   satisfactoryLevel  numberOfProjects\n",
              "satisfactoryLevel           1.000000         -0.133246\n",
              "numberOfProjects           -0.133246          1.000000"
            ]
          },
          "execution_count": 21,
          "metadata": {},
          "output_type": "execute_result"
        }
      ],
      "source": [
        "df[[\"satisfactoryLevel\",\"numberOfProjects\"]].corr()"
      ]
    },
    {
      "cell_type": "code",
      "execution_count": null,
      "id": "7f667f2e",
      "metadata": {
        "id": "7f667f2e",
        "outputId": "9f0fedf8-ef2a-4045-e85f-8da450b166e8"
      },
      "outputs": [
        {
          "data": {
            "text/html": [
              "<div>\n",
              "<style scoped>\n",
              "    .dataframe tbody tr th:only-of-type {\n",
              "        vertical-align: middle;\n",
              "    }\n",
              "\n",
              "    .dataframe tbody tr th {\n",
              "        vertical-align: top;\n",
              "    }\n",
              "\n",
              "    .dataframe thead th {\n",
              "        text-align: right;\n",
              "    }\n",
              "</style>\n",
              "<table border=\"1\" class=\"dataframe\">\n",
              "  <thead>\n",
              "    <tr style=\"text-align: right;\">\n",
              "      <th></th>\n",
              "      <th>satisfactoryLevel</th>\n",
              "      <th>lastEvaluation</th>\n",
              "      <th>numberOfProjects</th>\n",
              "      <th>avgMonthlyHours</th>\n",
              "      <th>timeSpent.company</th>\n",
              "      <th>workAccident</th>\n",
              "      <th>left</th>\n",
              "      <th>promotionInLast5years</th>\n",
              "    </tr>\n",
              "  </thead>\n",
              "  <tbody>\n",
              "    <tr>\n",
              "      <th>satisfactoryLevel</th>\n",
              "      <td>1.000000</td>\n",
              "      <td>0.095186</td>\n",
              "      <td>-0.133246</td>\n",
              "      <td>-0.006252</td>\n",
              "      <td>-0.152915</td>\n",
              "      <td>0.039940</td>\n",
              "      <td>-0.350558</td>\n",
              "      <td>0.019789</td>\n",
              "    </tr>\n",
              "    <tr>\n",
              "      <th>lastEvaluation</th>\n",
              "      <td>0.095186</td>\n",
              "      <td>1.000000</td>\n",
              "      <td>0.270256</td>\n",
              "      <td>0.264678</td>\n",
              "      <td>0.096829</td>\n",
              "      <td>-0.005695</td>\n",
              "      <td>0.013520</td>\n",
              "      <td>-0.007206</td>\n",
              "    </tr>\n",
              "    <tr>\n",
              "      <th>numberOfProjects</th>\n",
              "      <td>-0.133246</td>\n",
              "      <td>0.270256</td>\n",
              "      <td>1.000000</td>\n",
              "      <td>0.331516</td>\n",
              "      <td>0.188837</td>\n",
              "      <td>-0.005612</td>\n",
              "      <td>0.030928</td>\n",
              "      <td>-0.000544</td>\n",
              "    </tr>\n",
              "    <tr>\n",
              "      <th>avgMonthlyHours</th>\n",
              "      <td>-0.006252</td>\n",
              "      <td>0.264678</td>\n",
              "      <td>0.331516</td>\n",
              "      <td>1.000000</td>\n",
              "      <td>0.102875</td>\n",
              "      <td>-0.012860</td>\n",
              "      <td>0.070409</td>\n",
              "      <td>-0.004964</td>\n",
              "    </tr>\n",
              "    <tr>\n",
              "      <th>timeSpent.company</th>\n",
              "      <td>-0.152915</td>\n",
              "      <td>0.096829</td>\n",
              "      <td>0.188837</td>\n",
              "      <td>0.102875</td>\n",
              "      <td>1.000000</td>\n",
              "      <td>0.000003</td>\n",
              "      <td>0.173295</td>\n",
              "      <td>0.056828</td>\n",
              "    </tr>\n",
              "    <tr>\n",
              "      <th>workAccident</th>\n",
              "      <td>0.039940</td>\n",
              "      <td>-0.005695</td>\n",
              "      <td>-0.005612</td>\n",
              "      <td>-0.012860</td>\n",
              "      <td>0.000003</td>\n",
              "      <td>1.000000</td>\n",
              "      <td>-0.125436</td>\n",
              "      <td>0.029852</td>\n",
              "    </tr>\n",
              "    <tr>\n",
              "      <th>left</th>\n",
              "      <td>-0.350558</td>\n",
              "      <td>0.013520</td>\n",
              "      <td>0.030928</td>\n",
              "      <td>0.070409</td>\n",
              "      <td>0.173295</td>\n",
              "      <td>-0.125436</td>\n",
              "      <td>1.000000</td>\n",
              "      <td>-0.044657</td>\n",
              "    </tr>\n",
              "    <tr>\n",
              "      <th>promotionInLast5years</th>\n",
              "      <td>0.019789</td>\n",
              "      <td>-0.007206</td>\n",
              "      <td>-0.000544</td>\n",
              "      <td>-0.004964</td>\n",
              "      <td>0.056828</td>\n",
              "      <td>0.029852</td>\n",
              "      <td>-0.044657</td>\n",
              "      <td>1.000000</td>\n",
              "    </tr>\n",
              "  </tbody>\n",
              "</table>\n",
              "</div>"
            ],
            "text/plain": [
              "                       satisfactoryLevel  lastEvaluation  numberOfProjects  \\\n",
              "satisfactoryLevel               1.000000        0.095186         -0.133246   \n",
              "lastEvaluation                  0.095186        1.000000          0.270256   \n",
              "numberOfProjects               -0.133246        0.270256          1.000000   \n",
              "avgMonthlyHours                -0.006252        0.264678          0.331516   \n",
              "timeSpent.company              -0.152915        0.096829          0.188837   \n",
              "workAccident                    0.039940       -0.005695         -0.005612   \n",
              "left                           -0.350558        0.013520          0.030928   \n",
              "promotionInLast5years           0.019789       -0.007206         -0.000544   \n",
              "\n",
              "                       avgMonthlyHours  timeSpent.company  workAccident  \\\n",
              "satisfactoryLevel            -0.006252          -0.152915      0.039940   \n",
              "lastEvaluation                0.264678           0.096829     -0.005695   \n",
              "numberOfProjects              0.331516           0.188837     -0.005612   \n",
              "avgMonthlyHours               1.000000           0.102875     -0.012860   \n",
              "timeSpent.company             0.102875           1.000000      0.000003   \n",
              "workAccident                 -0.012860           0.000003      1.000000   \n",
              "left                          0.070409           0.173295     -0.125436   \n",
              "promotionInLast5years        -0.004964           0.056828      0.029852   \n",
              "\n",
              "                           left  promotionInLast5years  \n",
              "satisfactoryLevel     -0.350558               0.019789  \n",
              "lastEvaluation         0.013520              -0.007206  \n",
              "numberOfProjects       0.030928              -0.000544  \n",
              "avgMonthlyHours        0.070409              -0.004964  \n",
              "timeSpent.company      0.173295               0.056828  \n",
              "workAccident          -0.125436               0.029852  \n",
              "left                   1.000000              -0.044657  \n",
              "promotionInLast5years -0.044657               1.000000  "
            ]
          },
          "execution_count": 22,
          "metadata": {},
          "output_type": "execute_result"
        }
      ],
      "source": [
        "df.corr()"
      ]
    },
    {
      "cell_type": "code",
      "execution_count": null,
      "id": "3679f9e1",
      "metadata": {
        "id": "3679f9e1"
      },
      "outputs": [],
      "source": [
        "import matplotlib.pyplot as plt\n",
        "import seaborn as sns"
      ]
    },
    {
      "cell_type": "code",
      "execution_count": null,
      "id": "eee0bc51",
      "metadata": {
        "id": "eee0bc51",
        "outputId": "1b14244c-82f2-41c5-af34-9edb7cdd618b"
      },
      "outputs": [
        {
          "data": {
            "text/plain": [
              "<AxesSubplot:>"
            ]
          },
          "execution_count": 24,
          "metadata": {},
          "output_type": "execute_result"
        },
        {
          "data": {
            "image/png": "[encoded data removed]",
            "text/plain": [
              "<Figure size 432x288 with 2 Axes>"
            ]
          },
          "metadata": {
            "needs_background": "light"
          },
          "output_type": "display_data"
        }
      ],
      "source": [
        "sns.heatmap(df.corr())"
      ]
    },
    {
      "cell_type": "code",
      "execution_count": null,
      "id": "6f27ee60",
      "metadata": {
        "id": "6f27ee60",
        "outputId": "a6c6d4ca-e835-4bba-dcfc-2c69fe287788"
      },
      "outputs": [
        {
          "data": {
            "text/plain": [
              "<AxesSubplot:>"
            ]
          },
          "execution_count": 25,
          "metadata": {},
          "output_type": "execute_result"
        },
        {
          "data": {
            "image/png": "[encoded data removed]",
            "text/plain": [
              "<Figure size 432x288 with 2 Axes>"
            ]
          },
          "metadata": {
            "needs_background": "light"
          },
          "output_type": "display_data"
        }
      ],
      "source": [
        "sns.heatmap(df.corr(), annot=True)"
      ]
    },
    {
      "cell_type": "code",
      "execution_count": null,
      "id": "3c6d6aa3",
      "metadata": {
        "id": "3c6d6aa3",
        "outputId": "1069e2e8-7ef0-49ed-c972-6bef877234c0"
      },
      "outputs": [
        {
          "data": {
            "text/plain": [
              "Index(['satisfactoryLevel', 'lastEvaluation', 'numberOfProjects',\n",
              "       'avgMonthlyHours', 'timeSpent.company', 'workAccident', 'left',\n",
              "       'promotionInLast5years', 'dept', 'salary'],\n",
              "      dtype='object')"
            ]
          },
          "execution_count": 26,
          "metadata": {},
          "output_type": "execute_result"
        }
      ],
      "source": [
        "df.columns"
      ]
    },
    {
      "cell_type": "code",
      "execution_count": null,
      "id": "5e2c2f49",
      "metadata": {
        "id": "5e2c2f49"
      },
      "outputs": [],
      "source": [
        "a = ['dept','numberOfProjects','timeSpent.company','workAccident','promotionInLast5years','salary']"
      ]
    },
    {
      "cell_type": "code",
      "execution_count": null,
      "id": "65e582e3",
      "metadata": {
        "id": "65e582e3",
        "outputId": "86f622f6-5d6d-4a97-b430-338ebb543fa0"
      },
      "outputs": [
        {
          "data": {
            "text/plain": [
              "['dept',\n",
              " 'numberOfProjects',\n",
              " 'timeSpent.company',\n",
              " 'workAccident',\n",
              " 'promotionInLast5years',\n",
              " 'salary']"
            ]
          },
          "execution_count": 28,
          "metadata": {},
          "output_type": "execute_result"
        }
      ],
      "source": [
        "a"
      ]
    },
    {
      "cell_type": "code",
      "execution_count": null,
      "id": "db24ea22",
      "metadata": {
        "id": "db24ea22",
        "outputId": "6b95b9c6-b520-4525-8836-3eaeb4b88f2c"
      },
      "outputs": [
        {
          "name": "stdout",
          "output_type": "stream",
          "text": [
            "dept\n",
            "numberOfProjects\n",
            "timeSpent.company\n",
            "workAccident\n",
            "promotionInLast5years\n",
            "salary\n"
          ]
        }
      ],
      "source": [
        "for i in a:\n",
        "    print(i)"
      ]
    },
    {
      "cell_type": "code",
      "execution_count": null,
      "id": "09c8e07f",
      "metadata": {
        "id": "09c8e07f",
        "outputId": "5d301cef-5621-411a-e24f-02937c9bb656"
      },
      "outputs": [
        {
          "name": "stdout",
          "output_type": "stream",
          "text": [
            "dept\n",
            "numberOfProjects\n",
            "timeSpent.company\n",
            "workAccident\n",
            "promotionInLast5years\n",
            "salary\n"
          ]
        }
      ],
      "source": [
        "for i,j in enumerate(a):\n",
        "    print(j)"
      ]
    },
    {
      "cell_type": "code",
      "execution_count": null,
      "id": "cfbda6f9",
      "metadata": {
        "id": "cfbda6f9",
        "outputId": "e38867dd-2cc7-4ec0-bd42-ca9e27471216"
      },
      "outputs": [
        {
          "data": {
            "text/plain": [
              "<AxesSubplot:xlabel='dept', ylabel='count'>"
            ]
          },
          "execution_count": 39,
          "metadata": {},
          "output_type": "execute_result"
        },
        {
          "data": {
            "image/png": "[encoded data removed]",
            "text/plain": [
              "<Figure size 432x288 with 1 Axes>"
            ]
          },
          "metadata": {
            "needs_background": "light"
          },
          "output_type": "display_data"
        }
      ],
      "source": [
        "sns.countplot(x='dept', data=df, hue='left')"
      ]
    },
    {
      "cell_type": "code",
      "execution_count": null,
      "id": "b4846d69",
      "metadata": {
        "id": "b4846d69",
        "outputId": "ac6a0d3d-44cc-43ed-e5ba-3d7aa2448862"
      },
      "outputs": [
        {
          "data": {
            "image/png": "[encoded data removed]",
            "text/plain": [
              "<Figure size 1440x1800 with 6 Axes>"
            ]
          },
          "metadata": {
            "needs_background": "light"
          },
          "output_type": "display_data"
        }
      ],
      "source": [
        "fig = plt.subplots(figsize=(20,25))\n",
        "\n",
        "for i,j in enumerate(a):\n",
        "\n",
        "    plt.subplot(3,2,i+1) #3,2,1 --> 3,2,2\n",
        "    sns.countplot(x=j, data=df)\n",
        "\n",
        "plt.show()"
      ]
    },
    {
      "cell_type": "code",
      "execution_count": null,
      "id": "69a8c711",
      "metadata": {
        "id": "69a8c711",
        "outputId": "8894a7e1-7c01-47a1-8525-fcd6e134e743"
      },
      "outputs": [
        {
          "data": {
            "image/png": "[encoded data removed]",
            "text/plain": [
              "<Figure size 360x360 with 1 Axes>"
            ]
          },
          "metadata": {
            "needs_background": "light"
          },
          "output_type": "display_data"
        }
      ],
      "source": [
        "fig = plt.subplots(figsize=(5,5))"
      ]
    },
    {
      "cell_type": "code",
      "execution_count": null,
      "id": "bccbd8dc",
      "metadata": {
        "id": "bccbd8dc",
        "outputId": "f91c8f83-363f-4a31-f0f8-2bc260aed63a"
      },
      "outputs": [
        {
          "name": "stdout",
          "output_type": "stream",
          "text": [
            "0 dept\n",
            "1 numberOfProjects\n",
            "2 timeSpent.company\n",
            "3 workAccident\n",
            "4 promotionInLast5years\n",
            "5 salary\n"
          ]
        },
        {
          "data": {
            "image/png": "[encoded data removed]",
            "text/plain": [
              "<Figure size 1440x1800 with 6 Axes>"
            ]
          },
          "metadata": {
            "needs_background": "light"
          },
          "output_type": "display_data"
        }
      ],
      "source": [
        "fig = plt.subplots(figsize = (20,25))\n",
        "\n",
        "#for i in a:\n",
        "#    print(i)\n",
        "\n",
        "for i,j in enumerate(a):\n",
        "    print(i,j)\n",
        "    #i-> index values\n",
        "    #j -> Data\n",
        "    #i=0, j=Dept ......i=1, numberOfProjects.....\n",
        "    plt.subplot(3,2,i+1)\n",
        "    #(3,2,1), (3,2,2), ............\n",
        "    sns.countplot(x=j, data=df, hue='left') #unique categories and their count\n",
        "\n",
        "plt.show()"
      ]
    },
    {
      "cell_type": "code",
      "execution_count": null,
      "id": "4ca6e1e3",
      "metadata": {
        "id": "4ca6e1e3"
      },
      "outputs": [],
      "source": [
        "#Conclusion :\n",
        "\n",
        "#Dept: Sales, Support, Technical : depts are having the high attrition rate\n",
        "    # -> Incentives, Increments, training\n",
        "\n",
        "#Projects -> Employees are leaving when they either have highest or lowest no.of projects\n",
        "    # -> 3, 4 is the optimal no.of projects\n",
        "\n",
        "#Time spent -> 3-5 years is the most crucial time for the company\n",
        "    #-> Increment, Annual Incentives, Promotions\n",
        "\n",
        "#Work Accident -> Most of the employees who are leaving, are not invloved in any work accident\n",
        "    # Work accident and attrition rate are not related\n",
        "\n",
        "#Promotion in last 5 years -> MOst of the employees who are leaving the company haven't been promoted in last 5 years\n",
        "\n",
        "#Salary -> Most of the employees who are leaving are from the company are of range low and medium salaries."
      ]
    }
  ],
  "metadata": {
    "kernelspec": {
      "display_name": "Python 3 (ipykernel)",
      "language": "python",
      "name": "python3"
    },
    "language_info": {
      "codemirror_mode": {
        "name": "ipython",
        "version": 3
      },
      "file_extension": ".py",
      "mimetype": "text/x-python",
      "name": "python",
      "nbconvert_exporter": "python",
      "pygments_lexer": "ipython3",
      "version": "3.9.12"
    },
    "colab": {
      "provenance": [],
      "toc_visible": true,
      "include_colab_link": true
    }
  },
  "nbformat": 4,
  "nbformat_minor": 5
}